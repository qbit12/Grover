{
 "cells": [
  {
   "cell_type": "markdown",
   "metadata": {},
   "source": [
    "<h1 align=\"center\">\n",
    "\t Optimizations of Grover’s Search algorithm\n",
    "</h1>"
   ]
  },
  {
   "cell_type": "code",
   "execution_count": null,
   "metadata": {},
   "outputs": [],
   "source": [
    "from qiskit import *\n",
    "from qiskit.tools.visualization import plot_histogram\n",
    "from qiskit.compiler import transpile\n",
    "IBMQ.load_account()\n",
    "provider = IBMQ.get_provider('ibm-q')\n",
    "device=provider.get_backend('ibmq_16_melbourne')\n",
    "# Simulator\n",
    "simulator = Aer.get_backend('qasm_simulator')"
   ]
  },
  {
   "cell_type": "code",
   "execution_count": null,
   "metadata": {},
   "outputs": [],
   "source": [
    "from grover import * # boolean_grover()\n",
    "%run phase&modified_grover.py # phase_grover()"
   ]
  },
  {
   "cell_type": "markdown",
   "metadata": {},
   "source": [
    "One of the problems currently faced to implement quantum algorithms is the required number of quantum gates, qubits, and delay for performing any task. Quantum Computers and simulators are still prone to noise and errors. So, we find it necessary to optimize the quantum operations to reduce the necessary number of gates and qubits.\n",
    "\n",
    "\n",
    "We will implement a Grover diffuser and oracle in the circuit. If we use a multi conditioned qubits gate, when the circuit is transpiled to run on quantum device, there will be a high circuit depth. If we increase that time to do like those jobs by a very long coherence time, all the gates $-$ can be fit. The highest-coherence qubits that we can make today have a coherence time of ~ 100 microseconds. We may also wan to optimize the number of operations we can fit within that time. It is only possible to run Grover's algortigm if we have a low circuit depth\n",
    "\n",
    "<img src=\"5_noancilla.png\" alt=\"drawing\" width=\"200\" label=\"figure 1\"/>\n",
    "\n",
    "Ancilla qubits can be used to reduce circuit depth. By applying many two-qubits Toffoli gates (`ccx`), we can decompose them to 15 elementary gates, 6 CNOT gates among them, acting just only on the pair of qubits\n",
    "\n",
    "<img src=\"5_ ancilla.png\" alt=\"drawing\" width=\"800\" label=\"figure 2\"/>\n"
   ]
  },
  {
   "cell_type": "markdown",
   "metadata": {},
   "source": [
    "In the diagram we have used many CCNOT gates as ancilla qubit, however the circuit cost is still high, because increasing the number of controlled qubits implies using more ancillas which is still difficult to implement on hardware\n",
    "\n",
    "So we have to decrease the number of ancillary qubits present in oracle. In the next step, Fig 2 is implemeneted with 9 qubits by implementing phase oracle. We will reduce number of ccx gates by 3.\n",
    "\n",
    "### -Optimized Oracle:\n",
    "The number of qubits is reduced by one and this new design is applicable for n multi-qubit control gate.\n"
   ]
  },
  {
   "cell_type": "code",
   "execution_count": null,
   "metadata": {},
   "outputs": [],
   "source": [
    "\n",
    "s0=boolean_oracle(['11111'], 'ancilla')\n",
    "s0.draw('mpl')"
   ]
  },
  {
   "cell_type": "code",
   "execution_count": null,
   "metadata": {},
   "outputs": [],
   "source": [
    "\n",
    "s=oracle(['111111'], 'ancilla')\n",
    "s.draw('mpl')"
   ]
  },
  {
   "cell_type": "markdown",
   "metadata": {},
   "source": [
    "Using the identity $HXH=Z$, we have implemented the circuit with 2 hadamard gates."
   ]
  },
  {
   "cell_type": "code",
   "execution_count": null,
   "metadata": {},
   "outputs": [],
   "source": [
    "\n",
    "s1=oracle(['111'], 'ancilla')\n",
    "s1.draw('mpl')"
   ]
  },
  {
   "cell_type": "code",
   "execution_count": null,
   "metadata": {},
   "outputs": [],
   "source": [
    "\n",
    "s2=boolean_oracle(['111'], 'ancilla')\n",
    "s2.draw('mpl')"
   ]
  },
  {
   "cell_type": "markdown",
   "metadata": {},
   "source": [
    "### -The optimized diffuser\n",
    "In this part we apply a set of operations to transition from a difference of phase (made by the oracle) to a difference of amplitude (inversion about the mean):\n",
    "\n",
    "   1-Cancel the superposition by a layer of H gate\n",
    "\n",
    "   2-Multiply the amplitude of the $|0>_n$ state by -1, this is called a mirror operation $M_0=X^{\\otimes n} M_1 X^{\\otimes n}$.\n",
    "    \n",
    "   3-Restoring the superposition by another layer of H gate called $A^\\dagger$, which increases the probability of seeing the desired state.\n",
    "    \n",
    "The overall effect is $D=-AM_0A^\\dagger$ in the standard version of Grover's algorithm $A=H$ whereas in this paper [[1](https://arxiv.org/abs/2005.06468)] they assign to it another operation; whereby their main achievement is a generalization of the inversion about the mean step, thus rather than canceling the superposition they go forward to another state that makes the reflection easier. They succeeded to combine the action of the first layer of step 1 $H^{\\otimes n}$ with the first layer of step 2 $X^{\\otimes n}$ into a more efficient operator B where the Grover diffuser turn into $D=B^\\dagger M_B B$. They supposed an operator B such that $BA=X^{\\otimes n}$, then $A^\\dagger=X^{\\otimes n} B$ and $A=B^\\dagger X^{\\otimes n}$ then the Grover diffusion becomes: $$\\begin{aligned}\n",
    "D &=A M_{0} A^{\\dagger} \\\\\n",
    "&=B^{\\dagger} X^{\\otimes n} M_{0} X^{\\otimes n} B \\\\\n",
    "&=B^{\\dagger} X^{\\otimes n} X^{\\otimes n} M_{1} X^{\\otimes n} X^{\\otimes n} B \\\\\n",
    "&=B^{\\dagger} M_{1} B\n",
    "\\end{aligned}$$\n",
    "In this case, $M_B=M_1$, which uses fewer gates than $M_0$, therefore avoid the $X$ gates on either side of the multi-control gate. The modified version of the algorithm set $B=R_x(\\pi/2)$ and $B^\\dagger=R_x(-\\pi/2)$; in general this leads to save $2n$ X gates per mirror operation.\n",
    "\n",
    "Hence the modification is as follow: $HX \\rightarrow R_x(\\pi/2)$ and $X^\\dagger H^\\dagger \\rightarrow R_x(-\\pi/2)$\n",
    "\n",
    "The preparation layer is also replaced: $H \\rightarrow R_x(\\pi/2)$\n",
    "\n",
    "And now let's do a comparison between the boolean Grover's circuit and phase+modified Grover's circuit by evaluating the circuit depth, widht and quantum cost ( this latter is done by the transpiler where it is the procedded step before running the circuit on the quantum hardware, it does 2 main things: \n",
    "\n",
    "1-Expresses high-level gate definitions in terms of the basis gates actually supported by the quantum hardware, in this case is the `ibmq_16_melbourne`.\n",
    "\n",
    "2-Optimizes the code. )\n",
    "\n",
    "### 1-Phase oracle + new design Grover's circuit evaluation:"
   ]
  },
  {
   "cell_type": "code",
   "execution_count": null,
   "metadata": {
    "scrolled": false
   },
   "outputs": [],
   "source": [
    "phase=grover(['1111'], 'ancilla',3)\n",
    "print('Circuit width', phase.width() -4) # the method will compute the classical registers wires+the quantum ones,\n",
    "                                        #No of quantum registers is 4 less\n",
    "print('Count of operations', phase.count_ops())\n",
    "phase.draw('mpl')"
   ]
  },
  {
   "cell_type": "code",
   "execution_count": null,
   "metadata": {},
   "outputs": [],
   "source": [
    "tranpile1= transpile(phase, device)\n",
    "print('Phase circuit depth = ',tranpile1.depth())\n",
    "print('Number of operations   ', tranpile1.count_ops())"
   ]
  },
  {
   "cell_type": "markdown",
   "metadata": {},
   "source": [
    "$\\Rightarrow$ The $Circuit\\;depth = 336$ and the $Quantum\\;cost=305+113+42=460$"
   ]
  },
  {
   "cell_type": "markdown",
   "metadata": {},
   "source": [
    "### 2-Boolean oracle Grover's circuit evaluation:"
   ]
  },
  {
   "cell_type": "code",
   "execution_count": null,
   "metadata": {
    "scrolled": false
   },
   "outputs": [],
   "source": [
    "boolean=boolean_grover(['1111'], 'ancilla',3)\n",
    "print('Circuit width', boolean.width() -4)\n",
    "print('Count of operations', boolean.decompose().count_ops())\n",
    "boolean.decompose().draw('mpl')"
   ]
  },
  {
   "cell_type": "code",
   "execution_count": null,
   "metadata": {},
   "outputs": [],
   "source": [
    "transpile2= transpile(boolean, device)\n",
    "print('Boolean circuit depth = ',transpile2.depth())\n",
    "print('Number of operations', transpile2.count_ops())"
   ]
  },
  {
   "cell_type": "markdown",
   "metadata": {},
   "source": [
    "$\\Rightarrow$ The $Circuit\\;depth = 588$ and the $Quantum\\;cost=592+196+63+3=854$"
   ]
  },
  {
   "cell_type": "markdown",
   "metadata": {},
   "source": [
    "Let's us calculate the difference between the two circuits:\n",
    "\n",
    "$\\Rightarrow$ The $Circuit\\;depth\\;diff = 588-336=252$, the $Quantum\\;cost\\;diff=854-460=394$ and the $Circuit\\;width\\;diff=8-5=3$\n",
    "\n",
    "**The $Circuit\\;depth\\;diff$ and the $Quantum\\;cost\\;diff$ will grow up exponentially with the number of qubits, whereas the $Circuit\\;width\\;diff$ will be always different by 3 (2 for the case of three qubits) which means that we saved three qubits (two qubits for the case of three qubits) and reduces the number of gates**"
   ]
  },
  {
   "cell_type": "code",
   "execution_count": null,
   "metadata": {},
   "outputs": [],
   "source": [
    "\n",
    "test1=grover(['011'],'ancilla',2)\n",
    "count1 = execute(test1,simulator).result().get_counts()\n",
    "print(count1)\n",
    "plot_histogram(count1,color='limegreen')"
   ]
  },
  {
   "cell_type": "code",
   "execution_count": null,
   "metadata": {},
   "outputs": [],
   "source": [
    "\n",
    "test2=grover(['110010'],'ancilla',6)\n",
    "count2 = execute(test2,simulator).result().get_counts()\n",
    "print(count2)\n",
    "plot_histogram(count2,color='c')"
   ]
  },
  {
   "cell_type": "code",
   "execution_count": null,
   "metadata": {},
   "outputs": [],
   "source": [
    "\n",
    "test3=grover(['11111111', '00000000','01110111'], 'ancilla', 7)\n",
    "count3 = execute(test3,simulator).result().get_counts()\n",
    "#print(count3)\n",
    "plot_histogram(count3,color='yellowgreen')"
   ]
  },
  {
   "cell_type": "markdown",
   "metadata": {},
   "source": [
    "<h1 align=\"center\">\n",
    "\tReferences\n",
    "</h1>\n",
    "    \n",
    "[1] [Gilliam, A., Pistoia, M., &amp; Gonciulea, C. (2020, May 26). Optimizing Quantum Search Using a Generalized Version of Grover's Algorithm.](https://arxiv.org/abs/2005.06468)"
   ]
  }
 ],
 "metadata": {
  "celltoolbar": "Format de la Cellule Texte Brut",
  "kernelspec": {
   "display_name": "Python 3",
   "language": "python",
   "name": "python3"
  },
  "language_info": {
   "codemirror_mode": {
    "name": "ipython",
    "version": 3
   },
   "file_extension": ".py",
   "mimetype": "text/x-python",
   "name": "python",
   "nbconvert_exporter": "python",
   "pygments_lexer": "ipython3",
   "version": "3.7.6"
  }
 },
 "nbformat": 4,
 "nbformat_minor": 4
}
